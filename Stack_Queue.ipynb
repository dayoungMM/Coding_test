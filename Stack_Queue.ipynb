{
 "cells": [
  {
   "cell_type": "markdown",
   "metadata": {},
   "source": [
    "# 주식가격\n",
    "\n",
    "문제 설명\n",
    "> 초 단위로 기록된 주식가격이 담긴 배열 prices가 매개변수로 주어질 때, 가격이 떨어지지 않은 기간은 몇 초인지를 return 하도록 solution 함수를 완성하세요.\n",
    "\n",
    "제한사항\n",
    "- prices의 각 가격은 1 이상 10,000 이하인 자연수입니다.\n",
    "- prices의 길이는 2 이상 100,000 이하입니다."
   ]
  },
  {
   "cell_type": "code",
   "execution_count": 1,
   "metadata": {},
   "outputs": [
    {
     "data": {
      "text/plain": [
       "[2, 3, 2, 3]"
      ]
     },
     "execution_count": 1,
     "metadata": {},
     "output_type": "execute_result"
    }
   ],
   "source": [
    "prices=[1, 2, 3, 2, 3]\n",
    "prices.pop(0)\n",
    "prices"
   ]
  },
  {
   "cell_type": "markdown",
   "metadata": {},
   "source": [
    "#### deque로 하니깐 효율성 테스트 성공한다\n",
    "> 스택에서 list.append와 list.pop()을 이용했던 것처럼 list.append와 list.pop(0)을 이용하면 리스트를 큐처럼 사용할 수 있다. 하지만 pop()의 time complexity는 O(1)인 반면 pop(0)의 time complexity는 O(N)이기 때문에 시간이 오래 걸린다. 따라서 시간 복잡도를 고려해 리스트는 큐로 사용하지 않는다."
   ]
  },
  {
   "cell_type": "code",
   "execution_count": 14,
   "metadata": {},
   "outputs": [
    {
     "data": {
      "text/plain": [
       "[4, 2, 1, 1, 0]"
      ]
     },
     "execution_count": 14,
     "metadata": {},
     "output_type": "execute_result"
    }
   ],
   "source": [
    "# prices=[1, 2, 3, 2, 3]\n",
    "\n",
    "from collections import deque\n",
    "\n",
    "prices=[1, 2, 3, 1, 3]\n",
    "\n",
    "def solution(prices):\n",
    "    prices = deque(prices)\n",
    "    answer = []\n",
    "    for i in range(len(prices)):\n",
    "        temp = prices.popleft()\n",
    "        cnt = 0\n",
    "        for j in prices:\n",
    "            cnt+=1\n",
    "            if temp > j:\n",
    "                break\n",
    "        answer.append(cnt)\n",
    "    return answer\n",
    "\n",
    "solution(prices)"
   ]
  },
  {
   "cell_type": "markdown",
   "metadata": {},
   "source": [
    "-----------------------------------------------------------"
   ]
  },
  {
   "cell_type": "markdown",
   "metadata": {},
   "source": [
    "### 이중for문"
   ]
  },
  {
   "cell_type": "code",
   "execution_count": 13,
   "metadata": {},
   "outputs": [
    {
     "data": {
      "text/plain": [
       "[4, 3, 1, 1, 0]"
      ]
     },
     "execution_count": 13,
     "metadata": {},
     "output_type": "execute_result"
    }
   ],
   "source": [
    "# prices=[1, 2, 3, 1, 3]\n",
    "prices = [1, 2, 3, 2, 3]\n",
    "def solution(prices):\n",
    "    answer = [0] * len(prices)\n",
    "    for i in range(len(prices)):\n",
    "        for j in range(i+1,len(prices)):\n",
    "            if prices[i] <= prices[j]:\n",
    "                answer[i] +=1\n",
    "            else:\n",
    "                answer[i] +=1\n",
    "                break\n",
    "    return answer\n",
    "solution(prices)"
   ]
  },
  {
   "cell_type": "markdown",
   "metadata": {},
   "source": [
    "# 기능개발\n",
    "문제 설명\n",
    "프로그래머스 팀에서는 기능 개선 작업을 수행 중입니다. 각 기능은 진도가 100%일 때 서비스에 반영할 수 있습니다.\n",
    "\n",
    "또, 각 기능의 개발속도는 모두 다르기 때문에 뒤에 있는 기능이 앞에 있는 기능보다 먼저 개발될 수 있고, 이때 뒤에 있는 기능은 앞에 있는 기능이 배포될 때 함께 배포됩니다.\n",
    "\n",
    "먼저 배포되어야 하는 순서대로 작업의 진도가 적힌 정수 배열 progresses와 각 작업의 개발 속도가 적힌 정수 배열 speeds가 주어질 때 각 배포마다 몇 개의 기능이 배포되는지를 return 하도록 solution 함수를 완성하세요.\n",
    "\n",
    "제한 사항\n",
    "작업의 개수(progresses, speeds배열의 길이)는 100개 이하입니다.\n",
    "작업 진도는 100 미만의 자연수입니다.\n",
    "작업 속도는 100 이하의 자연수입니다.\n",
    "배포는 하루에 한 번만 할 수 있으며, 하루의 끝에 이루어진다고 가정합니다. 예를 들어 진도율이 95%인 작업의 개발 속도가 하루에 4%라면 배포는 2일 뒤에 이루어집니다."
   ]
  },
  {
   "cell_type": "code",
   "execution_count": 72,
   "metadata": {},
   "outputs": [],
   "source": [
    "import numpy as np\n",
    "progresses = np.array([93, 30, 55])\n",
    "speeds = np.array([1, 30, 5])\n",
    "## return = [2, 1]\n",
    "\n",
    "# progresses = [95, 90, 99, 99, 80, 99]\n",
    "# speeds = [1, 1, 1, 1, 1, 1]\n",
    "## [1, 3, 2]"
   ]
  },
  {
   "cell_type": "code",
   "execution_count": 69,
   "metadata": {},
   "outputs": [
    {
     "data": {
      "text/plain": [
       "[1, 3, 2]"
      ]
     },
     "execution_count": 69,
     "metadata": {},
     "output_type": "execute_result"
    }
   ],
   "source": [
    "import numpy as np\n",
    "def solution(progresses, speeds):\n",
    "    answer = []\n",
    "    time_left = np.ones_like(progresses)*100\n",
    "    time_need = np.ceil((time_left - progresses) / speeds)\n",
    "    time_need = np.append(time_need,np.array([-1]),axis=0)\n",
    "    temp=time_need[0]\n",
    "    count = 0\n",
    "    for i in range(1,len(time_need)):\n",
    "        count +=1\n",
    "        if time_need[i]==-1:\n",
    "            answer.append(count)\n",
    "        if temp < time_need[i]:\n",
    "            answer.append(count)\n",
    "            count = 0\n",
    "            temp = time_need[i]\n",
    "    return answer\n",
    "solution(progresses, speeds)"
   ]
  },
  {
   "cell_type": "code",
   "execution_count": 74,
   "metadata": {},
   "outputs": [
    {
     "data": {
      "text/plain": [
       "array([7, 3, 9], dtype=int32)"
      ]
     },
     "execution_count": 74,
     "metadata": {},
     "output_type": "execute_result"
    }
   ],
   "source": [
    "## instead of np.ceil\n",
    "time_left = np.ones_like(progresses)*100\n",
    "time_need = -((progresses- time_left) // speeds)\n",
    "time_need"
   ]
  },
  {
   "cell_type": "markdown",
   "metadata": {},
   "source": [
    "##다리를 지나는 트럭\n",
    "\n",
    "문제 설명\n",
    "트럭 여러 대가 강을 가로지르는 일 차선 다리를 정해진 순으로 건너려 합니다. 모든 트럭이 다리를 건너려면 최소 몇 초가 걸리는지 알아내야 합니다. 트럭은 1초에 1만큼 움직이며, 다리 길이는 bridge_length이고 다리는 무게 weight까지 견딥니다.\n",
    "※ 트럭이 다리에 완전히 오르지 않은 경우, 이 트럭의 무게는 고려하지 않습니다.\n",
    "\n",
    "예를 들어, 길이가 2이고 10kg 무게를 견디는 다리가 있습니다. 무게가 [7, 4, 5, 6]kg인 트럭이 순서대로 최단 시간 안에 다리를 건너려면 다음과 같이 건너야 합니다.\n",
    "\n",
    "경과 시간\t다리를 지난 트럭\t다리를 건너는 트럭\t대기 트럭\n",
    "0\t[]\t[]\t[7,4,5,6]\n",
    "1~2\t[]\t[7]\t[4,5,6]\n",
    "3\t[7]\t[4]\t[5,6]\n",
    "4\t[7]\t[4,5]\t[6]\n",
    "5\t[7,4]\t[5]\t[6]\n",
    "6~7\t[7,4,5]\t[6]\t[]\n",
    "8\t[7,4,5,6]\t[]\t[]\n",
    "따라서, 모든 트럭이 다리를 지나려면 최소 8초가 걸립니다.\n",
    "\n",
    "solution 함수의 매개변수로 다리 길이 bridge_length, 다리가 견딜 수 있는 무게 weight, 트럭별 무게 truck_weights가 주어집니다. 이때 모든 트럭이 다리를 건너려면 최소 몇 초가 걸리는지 return 하도록 solution 함수를 완성하세요."
   ]
  },
  {
   "cell_type": "code",
   "execution_count": 88,
   "metadata": {},
   "outputs": [],
   "source": [
    "bridge_length = 2\n",
    "weight = 10\n",
    "truck_weights = deque([7,4,5,6])"
   ]
  },
  {
   "cell_type": "code",
   "execution_count": 89,
   "metadata": {},
   "outputs": [
    {
     "data": {
      "text/plain": [
       "2"
      ]
     },
     "execution_count": 89,
     "metadata": {},
     "output_type": "execute_result"
    }
   ],
   "source": [
    "count = 1\n",
    "onbridge = deque([])\n",
    "while len(truck_weights)>0:\n",
    "    temp =  truck_weights.popleft()\n",
    "    while sum(onbridge) > weight:\n",
    "        onbridge.popleft()\n",
    "        count +=1\n",
    "    if sum(onbridge) + temp <= weight:\n",
    "        onbridge.append(temp)\n",
    "        count +=1\n",
    "\n",
    "count\n",
    "        \n",
    "    "
   ]
  },
  {
   "cell_type": "code",
   "execution_count": null,
   "metadata": {},
   "outputs": [],
   "source": [
    "def solution(bridge_length, weight, truck_weights):\n",
    "    answer = 0\n",
    "    return answer"
   ]
  },
  {
   "cell_type": "code",
   "execution_count": null,
   "metadata": {},
   "outputs": [],
   "source": []
  }
 ],
 "metadata": {
  "kernelspec": {
   "display_name": "Python 3",
   "language": "python",
   "name": "python3"
  },
  "language_info": {
   "codemirror_mode": {
    "name": "ipython",
    "version": 3
   },
   "file_extension": ".py",
   "mimetype": "text/x-python",
   "name": "python",
   "nbconvert_exporter": "python",
   "pygments_lexer": "ipython3",
   "version": "3.8.3"
  }
 },
 "nbformat": 4,
 "nbformat_minor": 4
}
